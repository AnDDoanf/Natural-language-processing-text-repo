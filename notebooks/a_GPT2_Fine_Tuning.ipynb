{
  "cells": [
    {
      "cell_type": "markdown",
      "metadata": {
        "id": "view-in-github",
        "colab_type": "text"
      },
      "source": [
        "<a href=\"https://colab.research.google.com/github/AnDDoanf/learn_NLP/blob/master/notebooks/a_GPT2_Fine_Tuning.ipynb\" target=\"_parent\"><img src=\"https://colab.research.google.com/assets/colab-badge.svg\" alt=\"Open In Colab\"/></a>"
      ]
    },
    {
      "cell_type": "markdown",
      "metadata": {
        "id": "iIBiY1uGnlK5"
      },
      "source": [
        "### Workflow\n",
        "1. Data Preprocessing\n",
        "2. Model Training\n",
        "3. Testing\n",
        "\n",
        "Tutorial [link](https://www.kaggle.com/code/changyeop/how-to-fine-tune-gpt-2-for-beginners/notebook)"
      ]
    },
    {
      "cell_type": "code",
      "source": [
        "!pip install transformers\n"
      ],
      "metadata": {
        "id": "43Pr1cRzn-lb",
        "outputId": "68bad7bb-fe3e-4951-f3d7-3dd9de658440",
        "colab": {
          "base_uri": "https://localhost:8080/"
        }
      },
      "execution_count": 1,
      "outputs": [
        {
          "output_type": "stream",
          "name": "stdout",
          "text": [
            "Looking in indexes: https://pypi.org/simple, https://us-python.pkg.dev/colab-wheels/public/simple/\n",
            "Requirement already satisfied: transformers in /usr/local/lib/python3.9/dist-packages (4.28.0)\n",
            "Requirement already satisfied: numpy>=1.17 in /usr/local/lib/python3.9/dist-packages (from transformers) (1.22.4)\n",
            "Requirement already satisfied: filelock in /usr/local/lib/python3.9/dist-packages (from transformers) (3.11.0)\n",
            "Requirement already satisfied: regex!=2019.12.17 in /usr/local/lib/python3.9/dist-packages (from transformers) (2022.10.31)\n",
            "Requirement already satisfied: tokenizers!=0.11.3,<0.14,>=0.11.1 in /usr/local/lib/python3.9/dist-packages (from transformers) (0.13.3)\n",
            "Requirement already satisfied: packaging>=20.0 in /usr/local/lib/python3.9/dist-packages (from transformers) (23.0)\n",
            "Requirement already satisfied: requests in /usr/local/lib/python3.9/dist-packages (from transformers) (2.27.1)\n",
            "Requirement already satisfied: tqdm>=4.27 in /usr/local/lib/python3.9/dist-packages (from transformers) (4.65.0)\n",
            "Requirement already satisfied: huggingface-hub<1.0,>=0.11.0 in /usr/local/lib/python3.9/dist-packages (from transformers) (0.13.4)\n",
            "Requirement already satisfied: pyyaml>=5.1 in /usr/local/lib/python3.9/dist-packages (from transformers) (6.0)\n",
            "Requirement already satisfied: typing-extensions>=3.7.4.3 in /usr/local/lib/python3.9/dist-packages (from huggingface-hub<1.0,>=0.11.0->transformers) (4.5.0)\n",
            "Requirement already satisfied: certifi>=2017.4.17 in /usr/local/lib/python3.9/dist-packages (from requests->transformers) (2022.12.7)\n",
            "Requirement already satisfied: idna<4,>=2.5 in /usr/local/lib/python3.9/dist-packages (from requests->transformers) (3.4)\n",
            "Requirement already satisfied: charset-normalizer~=2.0.0 in /usr/local/lib/python3.9/dist-packages (from requests->transformers) (2.0.12)\n",
            "Requirement already satisfied: urllib3<1.27,>=1.21.1 in /usr/local/lib/python3.9/dist-packages (from requests->transformers) (1.26.15)\n"
          ]
        }
      ]
    },
    {
      "cell_type": "code",
      "execution_count": null,
      "metadata": {
        "id": "IJAq5tSsnlK_"
      },
      "outputs": [],
      "source": [
        "import numpy as np\n",
        "import pandas as pd\n",
        "import re"
      ]
    },
    {
      "cell_type": "code",
      "execution_count": null,
      "metadata": {
        "id": "tkh0hmXbnlLD"
      },
      "outputs": [],
      "source": [
        "def cleaning(s):\n",
        "    s = str(s) #turn to string\n",
        "    #Remove unwanted characters\n",
        "    s = re.sub('\\s\\W',' ',s)\n",
        "    s = re.sub('\\W,\\s',' ',s)\n",
        "    s = re.sub(\"\\d+\", \"\", s)\n",
        "    s = re.sub('\\s+',' ',s)\n",
        "    s = re.sub('[!@#$_]', '', s)\n",
        "    s = s.replace(\"co\",\"\")\n",
        "    s = s.replace(\"https\",\"\")\n",
        "    s = s.replace(\"[\\w*\",\" \")\n",
        "    return s"
      ]
    },
    {
      "cell_type": "code",
      "execution_count": null,
      "metadata": {
        "id": "8DIhlGWjnlLE"
      },
      "outputs": [],
      "source": [
        "# df = pd.read_csv(\"../datasets/Articles.csv\", encoding=\"ISO-8859-1\")\n",
        "# df = df.dropna()\n",
        "# text_data = open('../datasets/Articles.txt', 'w', encoding=\"utf-8\")\n",
        "# # Must have encoding when write\n",
        "# for idx, item in df.iterrows():\n",
        "#   article = cleaning(item[\"Article\"])\n",
        "#   text_data.write(article)\n",
        "# text_data.close()"
      ]
    },
    {
      "cell_type": "code",
      "execution_count": null,
      "metadata": {
        "id": "0_rAsnVenlLF"
      },
      "outputs": [],
      "source": [
        "from transformers import TextDataset, DataCollatorForLanguageModeling\n",
        "from transformers import GPT2Tokenizer, GPT2LMHeadModel\n",
        "from transformers import Trainer, TrainingArguments"
      ]
    },
    {
      "cell_type": "code",
      "execution_count": null,
      "metadata": {
        "id": "FuEp4Y8znlLG"
      },
      "outputs": [],
      "source": [
        "def load_dataset(file_path, tokenizer, block_size=128):\n",
        "    dataset = TextDataset(\n",
        "        tokenizer=tokenizer,\n",
        "        file_path=file_path,\n",
        "        block_size=block_size\n",
        "    )\n",
        "    return dataset\n",
        "\n",
        "def load_data_collator(tokenizer, mlm=False):\n",
        "    data_collator = DataCollatorForLanguageModeling(\n",
        "        tokenizer=tokenizer,\n",
        "        mlm = mlm\n",
        "    )\n",
        "    return data_collator\n",
        "\n",
        "def train(train_file_path, model_name, output_dir, overwrite_output_dir, per_device_train_batch_size, num_train_epochs, save_steps):\n",
        "    tokenizer = GPT2Tokenizer.from_pretrained(model_name)\n",
        "    train_dataset = load_dataset(train_file_path, tokenizer)\n",
        "    data_collator = load_data_collator(tokenizer)\n",
        "\n",
        "    tokenizer.save_pretrained(output_dir)\n",
        "\n",
        "    model = GPT2LMHeadModel.from_pretrained(model_name)\n",
        "\n",
        "    model.save_pretrained(output_dir)\n",
        "\n",
        "    training_args = TrainingArguments(\n",
        "            output_dir=output_dir,\n",
        "            overwrite_output_dir=overwrite_output_dir,\n",
        "            per_device_train_batch_size=per_device_train_batch_size,\n",
        "            num_train_epochs=num_train_epochs,\n",
        "        )\n",
        "\n",
        "    trainer = Trainer(\n",
        "            model=model,\n",
        "            args=training_args,\n",
        "            data_collator=data_collator,\n",
        "            train_dataset=train_dataset,\n",
        "    )\n",
        "        \n",
        "    trainer.train()\n",
        "    trainer.save_model()"
      ]
    },
    {
      "cell_type": "code",
      "source": [
        "!wget https://raw.githubusercontent.com/AnDDoanf/learn_NLP/master/datasets/Articles.txt"
      ],
      "metadata": {
        "id": "VWCkcv2Up-v9",
        "outputId": "ab0b2b77-7d77-4e24-dbf8-3c2cbcf4d05a",
        "colab": {
          "base_uri": "https://localhost:8080/"
        }
      },
      "execution_count": null,
      "outputs": [
        {
          "output_type": "stream",
          "name": "stdout",
          "text": [
            "--2023-03-09 01:44:02--  https://raw.githubusercontent.com/AnDDoanf/learn_NLP/master/datasets/Articles.txt\n",
            "Resolving raw.githubusercontent.com (raw.githubusercontent.com)... 185.199.111.133, 185.199.110.133, 185.199.109.133, ...\n",
            "Connecting to raw.githubusercontent.com (raw.githubusercontent.com)|185.199.111.133|:443... connected.\n",
            "HTTP request sent, awaiting response... 200 OK\n",
            "Length: 4721884 (4.5M) [text/plain]\n",
            "Saving to: ‘Articles.txt’\n",
            "\n",
            "Articles.txt        100%[===================>]   4.50M  --.-KB/s    in 0.02s   \n",
            "\n",
            "2023-03-09 01:44:04 (218 MB/s) - ‘Articles.txt’ saved [4721884/4721884]\n",
            "\n"
          ]
        }
      ]
    },
    {
      "cell_type": "code",
      "execution_count": null,
      "metadata": {
        "id": "5qKrdQ94nlLI"
      },
      "outputs": [],
      "source": [
        "# run on local:\n",
        "# train_file_path = \"../datasets/Articles.txt\"\n",
        "# run on colab:\n",
        "train_file_path = \"Articles.txt\"\n",
        "model_name = 'gpt2'\n",
        "output_dir = '/notebooks/GPT2_result'\n",
        "per_device_train_batch_size = 8\n",
        "num_train_epochs = 5.0\n",
        "save_steps = 500"
      ]
    },
    {
      "cell_type": "code",
      "execution_count": null,
      "metadata": {
        "id": "adtl2JkknlLJ",
        "outputId": "ccb4bb65-5cde-4e1f-b9ea-4a775b3eddf0",
        "colab": {
          "base_uri": "https://localhost:8080/",
          "height": 1000
        }
      },
      "outputs": [
        {
          "output_type": "display_data",
          "data": {
            "text/plain": [
              "<IPython.core.display.HTML object>"
            ],
            "text/html": [
              "\n",
              "    <div>\n",
              "      \n",
              "      <progress value='5015' max='5015' style='width:300px; height:20px; vertical-align: middle;'></progress>\n",
              "      [5015/5015 27:09, Epoch 5/5]\n",
              "    </div>\n",
              "    <table border=\"1\" class=\"dataframe\">\n",
              "  <thead>\n",
              " <tr style=\"text-align: left;\">\n",
              "      <th>Step</th>\n",
              "      <th>Training Loss</th>\n",
              "    </tr>\n",
              "  </thead>\n",
              "  <tbody>\n",
              "    <tr>\n",
              "      <td>500</td>\n",
              "      <td>3.699400</td>\n",
              "    </tr>\n",
              "    <tr>\n",
              "      <td>1000</td>\n",
              "      <td>3.408800</td>\n",
              "    </tr>\n",
              "    <tr>\n",
              "      <td>1500</td>\n",
              "      <td>3.166300</td>\n",
              "    </tr>\n",
              "    <tr>\n",
              "      <td>2000</td>\n",
              "      <td>3.126500</td>\n",
              "    </tr>\n",
              "    <tr>\n",
              "      <td>2500</td>\n",
              "      <td>2.975400</td>\n",
              "    </tr>\n",
              "    <tr>\n",
              "      <td>3000</td>\n",
              "      <td>2.959100</td>\n",
              "    </tr>\n",
              "    <tr>\n",
              "      <td>3500</td>\n",
              "      <td>2.856100</td>\n",
              "    </tr>\n",
              "    <tr>\n",
              "      <td>4000</td>\n",
              "      <td>2.852500</td>\n",
              "    </tr>\n",
              "    <tr>\n",
              "      <td>4500</td>\n",
              "      <td>2.791500</td>\n",
              "    </tr>\n",
              "    <tr>\n",
              "      <td>5000</td>\n",
              "      <td>2.782100</td>\n",
              "    </tr>\n",
              "  </tbody>\n",
              "</table><p>"
            ]
          },
          "metadata": {}
        },
        {
          "output_type": "stream",
          "name": "stderr",
          "text": [
            "Saving model checkpoint to /notebooks/GPT2_result/checkpoint-500\n",
            "Configuration saved in /notebooks/GPT2_result/checkpoint-500/config.json\n",
            "Configuration saved in /notebooks/GPT2_result/checkpoint-500/generation_config.json\n",
            "Model weights saved in /notebooks/GPT2_result/checkpoint-500/pytorch_model.bin\n",
            "Saving model checkpoint to /notebooks/GPT2_result/checkpoint-1000\n",
            "Configuration saved in /notebooks/GPT2_result/checkpoint-1000/config.json\n",
            "Configuration saved in /notebooks/GPT2_result/checkpoint-1000/generation_config.json\n",
            "Model weights saved in /notebooks/GPT2_result/checkpoint-1000/pytorch_model.bin\n",
            "Saving model checkpoint to /notebooks/GPT2_result/checkpoint-1500\n",
            "Configuration saved in /notebooks/GPT2_result/checkpoint-1500/config.json\n",
            "Configuration saved in /notebooks/GPT2_result/checkpoint-1500/generation_config.json\n",
            "Model weights saved in /notebooks/GPT2_result/checkpoint-1500/pytorch_model.bin\n",
            "Saving model checkpoint to /notebooks/GPT2_result/checkpoint-2000\n",
            "Configuration saved in /notebooks/GPT2_result/checkpoint-2000/config.json\n",
            "Configuration saved in /notebooks/GPT2_result/checkpoint-2000/generation_config.json\n",
            "Model weights saved in /notebooks/GPT2_result/checkpoint-2000/pytorch_model.bin\n",
            "Saving model checkpoint to /notebooks/GPT2_result/checkpoint-2500\n",
            "Configuration saved in /notebooks/GPT2_result/checkpoint-2500/config.json\n",
            "Configuration saved in /notebooks/GPT2_result/checkpoint-2500/generation_config.json\n",
            "Model weights saved in /notebooks/GPT2_result/checkpoint-2500/pytorch_model.bin\n",
            "Saving model checkpoint to /notebooks/GPT2_result/checkpoint-3000\n",
            "Configuration saved in /notebooks/GPT2_result/checkpoint-3000/config.json\n",
            "Configuration saved in /notebooks/GPT2_result/checkpoint-3000/generation_config.json\n",
            "Model weights saved in /notebooks/GPT2_result/checkpoint-3000/pytorch_model.bin\n",
            "Saving model checkpoint to /notebooks/GPT2_result/checkpoint-3500\n",
            "Configuration saved in /notebooks/GPT2_result/checkpoint-3500/config.json\n",
            "Configuration saved in /notebooks/GPT2_result/checkpoint-3500/generation_config.json\n",
            "Model weights saved in /notebooks/GPT2_result/checkpoint-3500/pytorch_model.bin\n",
            "Saving model checkpoint to /notebooks/GPT2_result/checkpoint-4000\n",
            "Configuration saved in /notebooks/GPT2_result/checkpoint-4000/config.json\n",
            "Configuration saved in /notebooks/GPT2_result/checkpoint-4000/generation_config.json\n",
            "Model weights saved in /notebooks/GPT2_result/checkpoint-4000/pytorch_model.bin\n",
            "Saving model checkpoint to /notebooks/GPT2_result/checkpoint-4500\n",
            "Configuration saved in /notebooks/GPT2_result/checkpoint-4500/config.json\n",
            "Configuration saved in /notebooks/GPT2_result/checkpoint-4500/generation_config.json\n",
            "Model weights saved in /notebooks/GPT2_result/checkpoint-4500/pytorch_model.bin\n",
            "Saving model checkpoint to /notebooks/GPT2_result/checkpoint-5000\n",
            "Configuration saved in /notebooks/GPT2_result/checkpoint-5000/config.json\n",
            "Configuration saved in /notebooks/GPT2_result/checkpoint-5000/generation_config.json\n",
            "Model weights saved in /notebooks/GPT2_result/checkpoint-5000/pytorch_model.bin\n",
            "\n",
            "\n",
            "Training completed. Do not forget to share your model on huggingface.co/models =)\n",
            "\n",
            "\n",
            "Saving model checkpoint to /notebooks/GPT2_result\n",
            "Configuration saved in /notebooks/GPT2_result/config.json\n",
            "Configuration saved in /notebooks/GPT2_result/generation_config.json\n",
            "Model weights saved in /notebooks/GPT2_result/pytorch_model.bin\n"
          ]
        }
      ],
      "source": [
        "train(\n",
        "    train_file_path=train_file_path,\n",
        "    model_name=model_name,\n",
        "    output_dir=output_dir,\n",
        "    overwrite_output_dir=False,\n",
        "    per_device_train_batch_size=per_device_train_batch_size,\n",
        "    num_train_epochs=num_train_epochs,\n",
        "    save_steps=save_steps\n",
        ")"
      ]
    },
    {
      "cell_type": "code",
      "source": [
        "from transformers import PreTrainedTokenizer, GPT2TokenizerFast, GPT2LMHeadModel, GPT2Tokenizer"
      ],
      "metadata": {
        "id": "KMEXd0dCJudb"
      },
      "execution_count": null,
      "outputs": []
    },
    {
      "cell_type": "code",
      "source": [
        "def load_model(model_path):\n",
        "    model = GPT2LMHeadModel.from_pretrained(model_path)\n",
        "    return model\n",
        "\n",
        "\n",
        "def load_tokenizer(tokenizer_path):\n",
        "    tokenizer = GPT2Tokenizer.from_pretrained(tokenizer_path)\n",
        "    return tokenizer\n",
        "\n",
        "\n",
        "def generate_text(sequence, max_length):\n",
        "    model_path = \"/notebooks/GPT2_result\"\n",
        "    model = load_model(model_path)\n",
        "    tokenizer = load_tokenizer(model_path)\n",
        "    ids = tokenizer.encode(f'{sequence}', return_tensors='pt')\n",
        "    final_outputs = model.generate(\n",
        "        ids,\n",
        "        do_sample=True,\n",
        "        max_length=max_length,\n",
        "        pad_token_id=model.config.eos_token_id,\n",
        "        top_k=50,\n",
        "        top_p=0.95,\n",
        "    )\n",
        "    print(tokenizer.decode(final_outputs[0], skip_special_tokens=True))"
      ],
      "metadata": {
        "id": "KNnz4XG7KNsn"
      },
      "execution_count": null,
      "outputs": []
    },
    {
      "cell_type": "code",
      "source": [
        "sequence = input()\n",
        "max_len = int(input())\n",
        "generate_text(sequence, max_len)"
      ],
      "metadata": {
        "id": "sUtCz5R6KqNy",
        "outputId": "7d98729b-d3d0-4080-b422-2669d981310e",
        "colab": {
          "base_uri": "https://localhost:8080/"
        }
      },
      "execution_count": null,
      "outputs": [
        {
          "name": "stdout",
          "output_type": "stream",
          "text": [
            "News\n",
            "50\n"
          ]
        },
        {
          "output_type": "stream",
          "name": "stderr",
          "text": [
            "loading configuration file /notebooks/GPT2_result/config.json\n",
            "Model config GPT2Config {\n",
            "  \"_name_or_path\": \"gpt2\",\n",
            "  \"activation_function\": \"gelu_new\",\n",
            "  \"architectures\": [\n",
            "    \"GPT2LMHeadModel\"\n",
            "  ],\n",
            "  \"attn_pdrop\": 0.1,\n",
            "  \"bos_token_id\": 50256,\n",
            "  \"embd_pdrop\": 0.1,\n",
            "  \"eos_token_id\": 50256,\n",
            "  \"initializer_range\": 0.02,\n",
            "  \"layer_norm_epsilon\": 1e-05,\n",
            "  \"model_type\": \"gpt2\",\n",
            "  \"n_ctx\": 1024,\n",
            "  \"n_embd\": 768,\n",
            "  \"n_head\": 12,\n",
            "  \"n_inner\": null,\n",
            "  \"n_layer\": 12,\n",
            "  \"n_positions\": 1024,\n",
            "  \"reorder_and_upcast_attn\": false,\n",
            "  \"resid_pdrop\": 0.1,\n",
            "  \"scale_attn_by_inverse_layer_idx\": false,\n",
            "  \"scale_attn_weights\": true,\n",
            "  \"summary_activation\": null,\n",
            "  \"summary_first_dropout\": 0.1,\n",
            "  \"summary_proj_to_labels\": true,\n",
            "  \"summary_type\": \"cls_index\",\n",
            "  \"summary_use_proj\": true,\n",
            "  \"task_specific_params\": {\n",
            "    \"text-generation\": {\n",
            "      \"do_sample\": true,\n",
            "      \"max_length\": 50\n",
            "    }\n",
            "  },\n",
            "  \"torch_dtype\": \"float32\",\n",
            "  \"transformers_version\": \"4.26.1\",\n",
            "  \"use_cache\": true,\n",
            "  \"vocab_size\": 50257\n",
            "}\n",
            "\n",
            "loading weights file /notebooks/GPT2_result/pytorch_model.bin\n",
            "Generate config GenerationConfig {\n",
            "  \"bos_token_id\": 50256,\n",
            "  \"eos_token_id\": 50256,\n",
            "  \"transformers_version\": \"4.26.1\"\n",
            "}\n",
            "\n",
            "All model checkpoint weights were used when initializing GPT2LMHeadModel.\n",
            "\n",
            "All the weights of GPT2LMHeadModel were initialized from the model checkpoint at /notebooks/GPT2_result.\n",
            "If your task is similar to the task the model of the checkpoint was trained on, you can already use GPT2LMHeadModel for predictions without further training.\n",
            "loading configuration file /notebooks/GPT2_result/generation_config.json\n",
            "Generate config GenerationConfig {\n",
            "  \"_from_model_config\": true,\n",
            "  \"bos_token_id\": 50256,\n",
            "  \"eos_token_id\": 50256,\n",
            "  \"transformers_version\": \"4.26.1\"\n",
            "}\n",
            "\n",
            "loading file vocab.json\n",
            "loading file merges.txt\n",
            "loading file added_tokens.json\n",
            "loading file special_tokens_map.json\n",
            "loading file tokenizer_config.json\n",
            "Generate config GenerationConfig {\n",
            "  \"bos_token_id\": 50256,\n",
            "  \"eos_token_id\": 50256,\n",
            "  \"transformers_version\": \"4.26.1\"\n",
            "}\n",
            "\n"
          ]
        },
        {
          "output_type": "stream",
          "name": "stdout",
          "text": [
            "News and Business Monitor, respectively.strong>WASHINGTON: Federal Reserve chief Janet Yellen held a news nference here Monday to take a cautious stance on the bank´s rate hike next month, warning she uld be cautious in using a softer gauge\n"
          ]
        }
      ]
    }
  ],
  "metadata": {
    "kernelspec": {
      "display_name": "Python 3",
      "language": "python",
      "name": "python3"
    },
    "language_info": {
      "codemirror_mode": {
        "name": "ipython",
        "version": 3
      },
      "file_extension": ".py",
      "mimetype": "text/x-python",
      "name": "python",
      "nbconvert_exporter": "python",
      "pygments_lexer": "ipython3",
      "version": "3.10.10"
    },
    "orig_nbformat": 4,
    "colab": {
      "provenance": [],
      "include_colab_link": true
    },
    "accelerator": "GPU",
    "gpuClass": "standard"
  },
  "nbformat": 4,
  "nbformat_minor": 0
}